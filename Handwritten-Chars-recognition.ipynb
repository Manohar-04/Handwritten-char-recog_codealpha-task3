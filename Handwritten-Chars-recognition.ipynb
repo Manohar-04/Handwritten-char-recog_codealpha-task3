{
 "cells": [
  {
   "cell_type": "code",
   "execution_count": null,
   "id": "a157ad13",
   "metadata": {},
   "outputs": [],
   "source": [
    "                                          #HANDWRITTEN CHARACTER RECOGNITION\n",
    "            -----------------------------------------------------------------------------------------------------------"
   ]
  },
  {
   "cell_type": "code",
   "execution_count": 3,
   "id": "dbf5bafe",
   "metadata": {},
   "outputs": [
    {
     "name": "stdout",
     "output_type": "stream",
     "text": [
      "Collecting emnist\n",
      "  Downloading emnist-0.0-py3-none-any.whl (7.3 kB)\n",
      "Requirement already satisfied: numpy in c:\\users\\manum\\anaconda3\\lib\\site-packages (from emnist) (1.24.3)\n",
      "Requirement already satisfied: requests in c:\\users\\manum\\anaconda3\\lib\\site-packages (from emnist) (2.29.0)\n",
      "Requirement already satisfied: tqdm in c:\\users\\manum\\anaconda3\\lib\\site-packages (from emnist) (4.65.0)\n",
      "Requirement already satisfied: charset-normalizer<4,>=2 in c:\\users\\manum\\anaconda3\\lib\\site-packages (from requests->emnist) (2.0.4)\n",
      "Requirement already satisfied: idna<4,>=2.5 in c:\\users\\manum\\anaconda3\\lib\\site-packages (from requests->emnist) (3.4)\n",
      "Requirement already satisfied: urllib3<1.27,>=1.21.1 in c:\\users\\manum\\anaconda3\\lib\\site-packages (from requests->emnist) (1.26.16)\n",
      "Requirement already satisfied: certifi>=2017.4.17 in c:\\users\\manum\\anaconda3\\lib\\site-packages (from requests->emnist) (2023.5.7)\n",
      "Requirement already satisfied: colorama in c:\\users\\manum\\appdata\\roaming\\python\\python311\\site-packages (from tqdm->emnist) (0.4.6)\n",
      "Installing collected packages: emnist\n",
      "Successfully installed emnist-0.0\n"
     ]
    }
   ],
   "source": [
    "!pip install emnist"
   ]
  },
  {
   "cell_type": "code",
   "execution_count": 2,
   "id": "9f71eadd",
   "metadata": {},
   "outputs": [
    {
     "name": "stdout",
     "output_type": "stream",
     "text": [
      "WARNING:tensorflow:From C:\\Users\\manum\\anaconda3\\Lib\\site-packages\\keras\\src\\losses.py:2976: The name tf.losses.sparse_softmax_cross_entropy is deprecated. Please use tf.compat.v1.losses.sparse_softmax_cross_entropy instead.\n",
      "\n"
     ]
    }
   ],
   "source": [
    "import tensorflow as tf\n",
    "from tensorflow.keras import layers, models\n",
    "from emnist import extract_training_samples, extract_test_samples\n",
    "from tensorflow.keras.utils import to_categorical\n",
    "import matplotlib.pyplot as plt\n"
   ]
  },
  {
   "cell_type": "code",
   "execution_count": 3,
   "id": "d39fb044",
   "metadata": {},
   "outputs": [],
   "source": [
    "# Load and preprocess the EMNIST dataset for letters\n",
    "train_images, train_labels = extract_training_samples('letters')\n",
    "test_images, test_labels = extract_test_samples('letters')\n",
    "\n",
    "train_images = train_images.reshape((train_images.shape[0], 28, 28, 1)).astype('float32') / 255\n",
    "test_images = test_images.reshape((test_images.shape[0], 28, 28, 1)).astype('float32') / 255\n",
    "\n",
    "train_labels = to_categorical(train_labels - 1) \n",
    "test_labels = to_categorical(test_labels - 1)"
   ]
  },
  {
   "cell_type": "code",
   "execution_count": 7,
   "id": "0fe591ed",
   "metadata": {},
   "outputs": [
    {
     "data": {
      "image/png": "[encoded data removed]",
      "text/plain": [
       "<Figure size 640x480 with 14 Axes>"
      ]
     },
     "metadata": {},
     "output_type": "display_data"
    }
   ],
   "source": [
    "num_images_to_display = 14 \n",
    "\n",
    "for i in range(num_images_to_display):\n",
    "    plt.subplot(1, num_images_to_display, i+1)\n",
    "    plt.imshow(train_images[i].reshape(28, 28), cmap='gray')  \n",
    "    plt.axis('off')\n",
    "\n",
    "plt.show()"
   ]
  },
  {
   "cell_type": "code",
   "execution_count": 4,
   "id": "9f1f4f07",
   "metadata": {},
   "outputs": [
    {
     "name": "stdout",
     "output_type": "stream",
     "text": [
      "WARNING:tensorflow:From C:\\Users\\manum\\anaconda3\\Lib\\site-packages\\keras\\src\\backend.py:873: The name tf.get_default_graph is deprecated. Please use tf.compat.v1.get_default_graph instead.\n",
      "\n",
      "WARNING:tensorflow:From C:\\Users\\manum\\anaconda3\\Lib\\site-packages\\keras\\src\\layers\\pooling\\max_pooling2d.py:161: The name tf.nn.max_pool is deprecated. Please use tf.nn.max_pool2d instead.\n",
      "\n"
     ]
    }
   ],
   "source": [
    "# Build the CNN model\n",
    "model = models.Sequential()\n",
    "model.add(layers.Conv2D(32, (3, 3), activation='relu', input_shape=(28, 28, 1)))\n",
    "model.add(layers.MaxPooling2D((2, 2)))\n",
    "model.add(layers.Conv2D(64, (3, 3), activation='relu'))\n",
    "model.add(layers.MaxPooling2D((2, 2)))\n",
    "model.add(layers.Conv2D(64, (3, 3), activation='relu'))\n",
    "model.add(layers.Flatten())\n",
    "model.add(layers.Dense(64, activation='relu'))\n",
    "model.add(layers.Dense(26, activation='softmax'))\n"
   ]
  },
  {
   "cell_type": "code",
   "execution_count": 6,
   "id": "5554970b",
   "metadata": {},
   "outputs": [
    {
     "name": "stdout",
     "output_type": "stream",
     "text": [
      "Epoch 1/5\n",
      "1950/1950 [==============================] - 17s 8ms/step - loss: 0.1490 - accuracy: 0.9470 - val_loss: 0.1936 - val_accuracy: 0.9366\n",
      "Epoch 2/5\n",
      "1950/1950 [==============================] - 15s 8ms/step - loss: 0.1364 - accuracy: 0.9502 - val_loss: 0.1896 - val_accuracy: 0.9380\n",
      "Epoch 3/5\n",
      "1950/1950 [==============================] - 16s 8ms/step - loss: 0.1247 - accuracy: 0.9536 - val_loss: 0.1892 - val_accuracy: 0.9399\n",
      "Epoch 4/5\n",
      "1950/1950 [==============================] - 16s 8ms/step - loss: 0.1167 - accuracy: 0.9568 - val_loss: 0.2003 - val_accuracy: 0.9378\n",
      "Epoch 5/5\n",
      "1950/1950 [==============================] - 16s 8ms/step - loss: 0.1094 - accuracy: 0.9581 - val_loss: 0.1912 - val_accuracy: 0.9396\n",
      "650/650 [==============================] - 3s 4ms/step - loss: 0.1912 - accuracy: 0.9396\n",
      "Test accuracy: 0.9396153688430786\n"
     ]
    }
   ],
   "source": [
    "# Compile the model\n",
    "model.compile(optimizer='adam',\n",
    "              loss='categorical_crossentropy',\n",
    "              metrics=['accuracy'])\n",
    "\n",
    "# Train the model\n",
    "model.fit(train_images, train_labels, epochs=5, batch_size=64, validation_data=(test_images, test_labels))\n",
    "\n",
    "# Evaluate the model\n",
    "test_loss, test_acc = model.evaluate(test_images, test_labels)\n",
    "print(f'Test accuracy: {test_acc}')\n"
   ]
  },
  {
   "cell_type": "code",
   "execution_count": 9,
   "id": "9e462712",
   "metadata": {},
   "outputs": [],
   "source": [
    "# Save the model\n",
    "model.save('handwritten_english_character_recognition_model.keras')"
   ]
  }
 ],
 "metadata": {
  "kernelspec": {
   "display_name": "Python 3 (ipykernel)",
   "language": "python",
   "name": "python3"
  },
  "language_info": {
   "codemirror_mode": {
    "name": "ipython",
    "version": 3
   },
   "file_extension": ".py",
   "mimetype": "text/x-python",
   "name": "python",
   "nbconvert_exporter": "python",
   "pygments_lexer": "ipython3",
   "version": "3.11.3"
  }
 },
 "nbformat": 4,
 "nbformat_minor": 5
}
